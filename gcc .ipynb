{
 "cells": [
  {
   "cell_type": "code",
   "execution_count": 1,
   "id": "4dd92746",
   "metadata": {},
   "outputs": [],
   "source": [
    "import pandas as pd\n",
    "import numpy as np\n",
    "import matplotlib.pyplot as plt\n",
    "import seaborn as sns\n",
    "%matplotlib inline"
   ]
  },
  {
   "cell_type": "code",
   "execution_count": 2,
   "id": "3d5abfdd",
   "metadata": {},
   "outputs": [
    {
     "data": {
      "text/html": [
       "<div>\n",
       "<style scoped>\n",
       "    .dataframe tbody tr th:only-of-type {\n",
       "        vertical-align: middle;\n",
       "    }\n",
       "\n",
       "    .dataframe tbody tr th {\n",
       "        vertical-align: top;\n",
       "    }\n",
       "\n",
       "    .dataframe thead th {\n",
       "        text-align: right;\n",
       "    }\n",
       "</style>\n",
       "<table border=\"1\" class=\"dataframe\">\n",
       "  <thead>\n",
       "    <tr style=\"text-align: right;\">\n",
       "      <th></th>\n",
       "      <th>CITY NAME</th>\n",
       "      <th>ZONE Number</th>\n",
       "      <th>Zone Name</th>\n",
       "      <th>WARD NAME</th>\n",
       "      <th>NUMBER OF PUBLIC PRIMARY SCHOOLS</th>\n",
       "      <th>NUMBER OF PUBLIC SECONDARY SCHOOLS</th>\n",
       "      <th>NUMBER OF PUBLIC HIGHER SECONDARY SCHOOLS</th>\n",
       "    </tr>\n",
       "  </thead>\n",
       "  <tbody>\n",
       "    <tr>\n",
       "      <th>0</th>\n",
       "      <td>Chennai</td>\n",
       "      <td>4</td>\n",
       "      <td>TONDIARPET</td>\n",
       "      <td>34</td>\n",
       "      <td>1</td>\n",
       "      <td>0</td>\n",
       "      <td>0.0</td>\n",
       "    </tr>\n",
       "    <tr>\n",
       "      <th>1</th>\n",
       "      <td>Chennai</td>\n",
       "      <td>4</td>\n",
       "      <td>TONDIARPET</td>\n",
       "      <td>35</td>\n",
       "      <td>2</td>\n",
       "      <td>3</td>\n",
       "      <td>0.0</td>\n",
       "    </tr>\n",
       "    <tr>\n",
       "      <th>2</th>\n",
       "      <td>Chennai</td>\n",
       "      <td>4</td>\n",
       "      <td>TONDIARPET</td>\n",
       "      <td>36</td>\n",
       "      <td>1</td>\n",
       "      <td>1</td>\n",
       "      <td>0.0</td>\n",
       "    </tr>\n",
       "    <tr>\n",
       "      <th>3</th>\n",
       "      <td>Chennai</td>\n",
       "      <td>4</td>\n",
       "      <td>TONDIARPET</td>\n",
       "      <td>37</td>\n",
       "      <td>5</td>\n",
       "      <td>0</td>\n",
       "      <td>0.0</td>\n",
       "    </tr>\n",
       "    <tr>\n",
       "      <th>4</th>\n",
       "      <td>Chennai</td>\n",
       "      <td>4</td>\n",
       "      <td>TONDIARPET</td>\n",
       "      <td>38</td>\n",
       "      <td>1</td>\n",
       "      <td>0</td>\n",
       "      <td>1.0</td>\n",
       "    </tr>\n",
       "    <tr>\n",
       "      <th>...</th>\n",
       "      <td>...</td>\n",
       "      <td>...</td>\n",
       "      <td>...</td>\n",
       "      <td>...</td>\n",
       "      <td>...</td>\n",
       "      <td>...</td>\n",
       "      <td>...</td>\n",
       "    </tr>\n",
       "    <tr>\n",
       "      <th>95</th>\n",
       "      <td>Chennai</td>\n",
       "      <td>13</td>\n",
       "      <td>ADYAR</td>\n",
       "      <td>178</td>\n",
       "      <td>1</td>\n",
       "      <td>0</td>\n",
       "      <td>1.0</td>\n",
       "    </tr>\n",
       "    <tr>\n",
       "      <th>96</th>\n",
       "      <td>Chennai</td>\n",
       "      <td>13</td>\n",
       "      <td>ADYAR</td>\n",
       "      <td>179</td>\n",
       "      <td>1</td>\n",
       "      <td>0</td>\n",
       "      <td>0.0</td>\n",
       "    </tr>\n",
       "    <tr>\n",
       "      <th>97</th>\n",
       "      <td>Chennai</td>\n",
       "      <td>13</td>\n",
       "      <td>ADYAR</td>\n",
       "      <td>180</td>\n",
       "      <td>1</td>\n",
       "      <td>0</td>\n",
       "      <td>1.0</td>\n",
       "    </tr>\n",
       "    <tr>\n",
       "      <th>98</th>\n",
       "      <td>Chennai</td>\n",
       "      <td>13</td>\n",
       "      <td>ADYAR</td>\n",
       "      <td>181</td>\n",
       "      <td>2</td>\n",
       "      <td>1</td>\n",
       "      <td>0.0</td>\n",
       "    </tr>\n",
       "    <tr>\n",
       "      <th>99</th>\n",
       "      <td>Chennai</td>\n",
       "      <td>13</td>\n",
       "      <td>ADYAR</td>\n",
       "      <td>182</td>\n",
       "      <td>1</td>\n",
       "      <td>0</td>\n",
       "      <td>1.0</td>\n",
       "    </tr>\n",
       "  </tbody>\n",
       "</table>\n",
       "<p>100 rows × 7 columns</p>\n",
       "</div>"
      ],
      "text/plain": [
       "   CITY NAME  ZONE Number   Zone Name  WARD NAME  \\\n",
       "0    Chennai            4  TONDIARPET         34   \n",
       "1    Chennai            4  TONDIARPET         35   \n",
       "2    Chennai            4  TONDIARPET         36   \n",
       "3    Chennai            4  TONDIARPET         37   \n",
       "4    Chennai            4  TONDIARPET         38   \n",
       "..       ...          ...         ...        ...   \n",
       "95   Chennai           13       ADYAR        178   \n",
       "96   Chennai           13       ADYAR        179   \n",
       "97   Chennai           13       ADYAR        180   \n",
       "98   Chennai           13       ADYAR        181   \n",
       "99   Chennai           13       ADYAR        182   \n",
       "\n",
       "    NUMBER OF PUBLIC PRIMARY SCHOOLS  NUMBER OF PUBLIC SECONDARY SCHOOLS  \\\n",
       "0                                  1                                   0   \n",
       "1                                  2                                   3   \n",
       "2                                  1                                   1   \n",
       "3                                  5                                   0   \n",
       "4                                  1                                   0   \n",
       "..                               ...                                 ...   \n",
       "95                                 1                                   0   \n",
       "96                                 1                                   0   \n",
       "97                                 1                                   0   \n",
       "98                                 2                                   1   \n",
       "99                                 1                                   0   \n",
       "\n",
       "    NUMBER OF PUBLIC HIGHER SECONDARY SCHOOLS  \n",
       "0                                         0.0  \n",
       "1                                         0.0  \n",
       "2                                         0.0  \n",
       "3                                         0.0  \n",
       "4                                         1.0  \n",
       "..                                        ...  \n",
       "95                                        1.0  \n",
       "96                                        0.0  \n",
       "97                                        1.0  \n",
       "98                                        0.0  \n",
       "99                                        1.0  \n",
       "\n",
       "[100 rows x 7 columns]"
      ]
     },
     "execution_count": 2,
     "metadata": {},
     "output_type": "execute_result"
    }
   ],
   "source": [
    "gcc = pd.read_csv(\"Gcc_Schools.csv\")\n",
    "gcc"
   ]
  },
  {
   "cell_type": "code",
   "execution_count": 3,
   "id": "75bf9cba",
   "metadata": {},
   "outputs": [
    {
     "data": {
      "text/plain": [
       "<bound method DataFrame.info of    CITY NAME  ZONE Number   Zone Name  WARD NAME  \\\n",
       "0    Chennai            4  TONDIARPET         34   \n",
       "1    Chennai            4  TONDIARPET         35   \n",
       "2    Chennai            4  TONDIARPET         36   \n",
       "3    Chennai            4  TONDIARPET         37   \n",
       "4    Chennai            4  TONDIARPET         38   \n",
       "..       ...          ...         ...        ...   \n",
       "95   Chennai           13       ADYAR        178   \n",
       "96   Chennai           13       ADYAR        179   \n",
       "97   Chennai           13       ADYAR        180   \n",
       "98   Chennai           13       ADYAR        181   \n",
       "99   Chennai           13       ADYAR        182   \n",
       "\n",
       "    NUMBER OF PUBLIC PRIMARY SCHOOLS  NUMBER OF PUBLIC SECONDARY SCHOOLS  \\\n",
       "0                                  1                                   0   \n",
       "1                                  2                                   3   \n",
       "2                                  1                                   1   \n",
       "3                                  5                                   0   \n",
       "4                                  1                                   0   \n",
       "..                               ...                                 ...   \n",
       "95                                 1                                   0   \n",
       "96                                 1                                   0   \n",
       "97                                 1                                   0   \n",
       "98                                 2                                   1   \n",
       "99                                 1                                   0   \n",
       "\n",
       "    NUMBER OF PUBLIC HIGHER SECONDARY SCHOOLS  \n",
       "0                                         0.0  \n",
       "1                                         0.0  \n",
       "2                                         0.0  \n",
       "3                                         0.0  \n",
       "4                                         1.0  \n",
       "..                                        ...  \n",
       "95                                        1.0  \n",
       "96                                        0.0  \n",
       "97                                        1.0  \n",
       "98                                        0.0  \n",
       "99                                        1.0  \n",
       "\n",
       "[100 rows x 7 columns]>"
      ]
     },
     "execution_count": 3,
     "metadata": {},
     "output_type": "execute_result"
    }
   ],
   "source": [
    "gcc.info"
   ]
  },
  {
   "cell_type": "code",
   "execution_count": 4,
   "id": "98631c81",
   "metadata": {},
   "outputs": [
    {
     "data": {
      "text/plain": [
       "CITY NAME                                     object\n",
       "ZONE Number                                    int64\n",
       "Zone Name                                     object\n",
       "WARD NAME                                      int64\n",
       "NUMBER OF PUBLIC PRIMARY SCHOOLS               int64\n",
       "NUMBER OF PUBLIC SECONDARY SCHOOLS             int64\n",
       "NUMBER OF PUBLIC HIGHER SECONDARY SCHOOLS    float64\n",
       "dtype: object"
      ]
     },
     "execution_count": 4,
     "metadata": {},
     "output_type": "execute_result"
    }
   ],
   "source": [
    "gcc.dtypes"
   ]
  },
  {
   "cell_type": "code",
   "execution_count": 5,
   "id": "159837b0",
   "metadata": {},
   "outputs": [
    {
     "data": {
      "text/plain": [
       "Index(['CITY NAME', 'ZONE Number', 'Zone Name', 'WARD NAME',\n",
       "       'NUMBER OF PUBLIC PRIMARY SCHOOLS',\n",
       "       'NUMBER OF PUBLIC SECONDARY SCHOOLS',\n",
       "       'NUMBER OF PUBLIC HIGHER SECONDARY SCHOOLS'],\n",
       "      dtype='object')"
      ]
     },
     "execution_count": 5,
     "metadata": {},
     "output_type": "execute_result"
    }
   ],
   "source": [
    "gcc.columns"
   ]
  },
  {
   "cell_type": "code",
   "execution_count": 6,
   "id": "fe92fa7b",
   "metadata": {},
   "outputs": [
    {
     "data": {
      "text/plain": [
       "array(['TONDIARPET', 'ROYAPURAM', 'THIRU-VI-KA NAGAR', 'ANNA NAGAR',\n",
       "       'TEYNAMPET', 'KODAMBAKKAM', 'ADYAR'], dtype=object)"
      ]
     },
     "execution_count": 6,
     "metadata": {},
     "output_type": "execute_result"
    }
   ],
   "source": [
    "gcc[\"Zone Name\"].unique()"
   ]
  },
  {
   "cell_type": "code",
   "execution_count": 7,
   "id": "dad97efb",
   "metadata": {},
   "outputs": [
    {
     "data": {
      "text/plain": [
       "100"
      ]
     },
     "execution_count": 7,
     "metadata": {},
     "output_type": "execute_result"
    }
   ],
   "source": [
    "gcc[\"Zone Name\"].count()"
   ]
  },
  {
   "cell_type": "code",
   "execution_count": 8,
   "id": "fae5eb95",
   "metadata": {},
   "outputs": [
    {
     "data": {
      "text/plain": [
       "TEYNAMPET            16\n",
       "TONDIARPET           15\n",
       "ROYAPURAM            15\n",
       "THIRU-VI-KA NAGAR    15\n",
       "KODAMBAKKAM          14\n",
       "ADYAR                13\n",
       "ANNA NAGAR           12\n",
       "Name: Zone Name, dtype: int64"
      ]
     },
     "execution_count": 8,
     "metadata": {},
     "output_type": "execute_result"
    }
   ],
   "source": [
    "gcc[\"Zone Name\"].value_counts()"
   ]
  },
  {
   "cell_type": "code",
   "execution_count": 9,
   "id": "63e7508e",
   "metadata": {},
   "outputs": [
    {
     "data": {
      "text/plain": [
       "0     False\n",
       "1     False\n",
       "2     False\n",
       "3     False\n",
       "4     False\n",
       "      ...  \n",
       "95    False\n",
       "96    False\n",
       "97    False\n",
       "98    False\n",
       "99    False\n",
       "Length: 100, dtype: bool"
      ]
     },
     "execution_count": 9,
     "metadata": {},
     "output_type": "execute_result"
    }
   ],
   "source": [
    "gcc.duplicated()"
   ]
  },
  {
   "cell_type": "code",
   "execution_count": 10,
   "id": "ee430b8d",
   "metadata": {},
   "outputs": [
    {
     "data": {
      "text/plain": [
       "CITY NAME                                    0\n",
       "ZONE Number                                  0\n",
       "Zone Name                                    0\n",
       "WARD NAME                                    0\n",
       "NUMBER OF PUBLIC PRIMARY SCHOOLS             0\n",
       "NUMBER OF PUBLIC SECONDARY SCHOOLS           0\n",
       "NUMBER OF PUBLIC HIGHER SECONDARY SCHOOLS    1\n",
       "dtype: int64"
      ]
     },
     "execution_count": 10,
     "metadata": {},
     "output_type": "execute_result"
    }
   ],
   "source": [
    "gcc.isnull().sum()"
   ]
  },
  {
   "cell_type": "code",
   "execution_count": 11,
   "id": "f800f842",
   "metadata": {},
   "outputs": [
    {
     "data": {
      "text/plain": [
       "0     0.0\n",
       "1     0.0\n",
       "2     0.0\n",
       "3     0.0\n",
       "4     1.0\n",
       "     ... \n",
       "95    1.0\n",
       "96    0.0\n",
       "97    1.0\n",
       "98    0.0\n",
       "99    1.0\n",
       "Name: NUMBER OF PUBLIC HIGHER SECONDARY SCHOOLS, Length: 100, dtype: float64"
      ]
     },
     "execution_count": 11,
     "metadata": {},
     "output_type": "execute_result"
    }
   ],
   "source": [
    "phsc = gcc[\"NUMBER OF PUBLIC HIGHER SECONDARY SCHOOLS\"]\n",
    "phsc"
   ]
  },
  {
   "cell_type": "code",
   "execution_count": 12,
   "id": "2d72d8ad",
   "metadata": {},
   "outputs": [
    {
     "data": {
      "text/plain": [
       "1"
      ]
     },
     "execution_count": 12,
     "metadata": {},
     "output_type": "execute_result"
    }
   ],
   "source": [
    "phsc.isnull().sum()"
   ]
  },
  {
   "cell_type": "code",
   "execution_count": 13,
   "id": "c1bf6156",
   "metadata": {},
   "outputs": [
    {
     "data": {
      "text/plain": [
       "1"
      ]
     },
     "execution_count": 13,
     "metadata": {},
     "output_type": "execute_result"
    }
   ],
   "source": [
    "phsc.isna().sum()"
   ]
  },
  {
   "cell_type": "code",
   "execution_count": 14,
   "id": "dba72c21",
   "metadata": {},
   "outputs": [
    {
     "data": {
      "text/plain": [
       "0.0    70\n",
       "1.0    26\n",
       "2.0     3\n",
       "Name: NUMBER OF PUBLIC HIGHER SECONDARY SCHOOLS, dtype: int64"
      ]
     },
     "execution_count": 14,
     "metadata": {},
     "output_type": "execute_result"
    }
   ],
   "source": [
    "phsc.value_counts()"
   ]
  },
  {
   "cell_type": "code",
   "execution_count": 15,
   "id": "5cbf78f2",
   "metadata": {},
   "outputs": [
    {
     "data": {
      "text/html": [
       "<div>\n",
       "<style scoped>\n",
       "    .dataframe tbody tr th:only-of-type {\n",
       "        vertical-align: middle;\n",
       "    }\n",
       "\n",
       "    .dataframe tbody tr th {\n",
       "        vertical-align: top;\n",
       "    }\n",
       "\n",
       "    .dataframe thead th {\n",
       "        text-align: right;\n",
       "    }\n",
       "</style>\n",
       "<table border=\"1\" class=\"dataframe\">\n",
       "  <thead>\n",
       "    <tr style=\"text-align: right;\">\n",
       "      <th></th>\n",
       "      <th>ZONE Number</th>\n",
       "      <th>WARD NAME</th>\n",
       "      <th>NUMBER OF PUBLIC PRIMARY SCHOOLS</th>\n",
       "      <th>NUMBER OF PUBLIC SECONDARY SCHOOLS</th>\n",
       "      <th>NUMBER OF PUBLIC HIGHER SECONDARY SCHOOLS</th>\n",
       "    </tr>\n",
       "  </thead>\n",
       "  <tbody>\n",
       "    <tr>\n",
       "      <th>count</th>\n",
       "      <td>100.000000</td>\n",
       "      <td>100.000000</td>\n",
       "      <td>100.000000</td>\n",
       "      <td>100.000000</td>\n",
       "      <td>99.000000</td>\n",
       "    </tr>\n",
       "    <tr>\n",
       "      <th>mean</th>\n",
       "      <td>7.740000</td>\n",
       "      <td>97.910000</td>\n",
       "      <td>1.180000</td>\n",
       "      <td>1.300000</td>\n",
       "      <td>0.323232</td>\n",
       "    </tr>\n",
       "    <tr>\n",
       "      <th>std</th>\n",
       "      <td>2.887171</td>\n",
       "      <td>44.100916</td>\n",
       "      <td>1.095261</td>\n",
       "      <td>1.159066</td>\n",
       "      <td>0.531234</td>\n",
       "    </tr>\n",
       "    <tr>\n",
       "      <th>min</th>\n",
       "      <td>4.000000</td>\n",
       "      <td>34.000000</td>\n",
       "      <td>0.000000</td>\n",
       "      <td>0.000000</td>\n",
       "      <td>0.000000</td>\n",
       "    </tr>\n",
       "    <tr>\n",
       "      <th>25%</th>\n",
       "      <td>5.000000</td>\n",
       "      <td>58.750000</td>\n",
       "      <td>0.000000</td>\n",
       "      <td>0.000000</td>\n",
       "      <td>0.000000</td>\n",
       "    </tr>\n",
       "    <tr>\n",
       "      <th>50%</th>\n",
       "      <td>8.000000</td>\n",
       "      <td>100.500000</td>\n",
       "      <td>1.000000</td>\n",
       "      <td>1.000000</td>\n",
       "      <td>0.000000</td>\n",
       "    </tr>\n",
       "    <tr>\n",
       "      <th>75%</th>\n",
       "      <td>10.000000</td>\n",
       "      <td>128.500000</td>\n",
       "      <td>2.000000</td>\n",
       "      <td>2.000000</td>\n",
       "      <td>1.000000</td>\n",
       "    </tr>\n",
       "    <tr>\n",
       "      <th>max</th>\n",
       "      <td>13.000000</td>\n",
       "      <td>182.000000</td>\n",
       "      <td>5.000000</td>\n",
       "      <td>5.000000</td>\n",
       "      <td>2.000000</td>\n",
       "    </tr>\n",
       "  </tbody>\n",
       "</table>\n",
       "</div>"
      ],
      "text/plain": [
       "       ZONE Number   WARD NAME  NUMBER OF PUBLIC PRIMARY SCHOOLS  \\\n",
       "count   100.000000  100.000000                        100.000000   \n",
       "mean      7.740000   97.910000                          1.180000   \n",
       "std       2.887171   44.100916                          1.095261   \n",
       "min       4.000000   34.000000                          0.000000   \n",
       "25%       5.000000   58.750000                          0.000000   \n",
       "50%       8.000000  100.500000                          1.000000   \n",
       "75%      10.000000  128.500000                          2.000000   \n",
       "max      13.000000  182.000000                          5.000000   \n",
       "\n",
       "       NUMBER OF PUBLIC SECONDARY SCHOOLS  \\\n",
       "count                          100.000000   \n",
       "mean                             1.300000   \n",
       "std                              1.159066   \n",
       "min                              0.000000   \n",
       "25%                              0.000000   \n",
       "50%                              1.000000   \n",
       "75%                              2.000000   \n",
       "max                              5.000000   \n",
       "\n",
       "       NUMBER OF PUBLIC HIGHER SECONDARY SCHOOLS  \n",
       "count                                  99.000000  \n",
       "mean                                    0.323232  \n",
       "std                                     0.531234  \n",
       "min                                     0.000000  \n",
       "25%                                     0.000000  \n",
       "50%                                     0.000000  \n",
       "75%                                     1.000000  \n",
       "max                                     2.000000  "
      ]
     },
     "execution_count": 15,
     "metadata": {},
     "output_type": "execute_result"
    }
   ],
   "source": [
    "gcc.describe()"
   ]
  },
  {
   "cell_type": "code",
   "execution_count": 16,
   "id": "2681bf8e",
   "metadata": {},
   "outputs": [],
   "source": [
    "gcc1 = gcc.fillna(value = 0.0, axis=1)"
   ]
  },
  {
   "cell_type": "code",
   "execution_count": 17,
   "id": "c74eb7f2",
   "metadata": {},
   "outputs": [
    {
     "data": {
      "text/plain": [
       "CITY NAME                                    0\n",
       "ZONE Number                                  0\n",
       "Zone Name                                    0\n",
       "WARD NAME                                    0\n",
       "NUMBER OF PUBLIC PRIMARY SCHOOLS             0\n",
       "NUMBER OF PUBLIC SECONDARY SCHOOLS           0\n",
       "NUMBER OF PUBLIC HIGHER SECONDARY SCHOOLS    0\n",
       "dtype: int64"
      ]
     },
     "execution_count": 17,
     "metadata": {},
     "output_type": "execute_result"
    }
   ],
   "source": [
    "gcc1.isnull().sum()"
   ]
  },
  {
   "cell_type": "code",
   "execution_count": 18,
   "id": "3806e011",
   "metadata": {},
   "outputs": [
    {
     "data": {
      "text/plain": [
       "0     0.0\n",
       "1     0.0\n",
       "2     0.0\n",
       "3     0.0\n",
       "4     1.0\n",
       "     ... \n",
       "95    1.0\n",
       "96    0.0\n",
       "97    1.0\n",
       "98    0.0\n",
       "99    1.0\n",
       "Name: NUMBER OF PUBLIC HIGHER SECONDARY SCHOOLS, Length: 100, dtype: object"
      ]
     },
     "execution_count": 18,
     "metadata": {},
     "output_type": "execute_result"
    }
   ],
   "source": [
    "fillphss = gcc1[\"NUMBER OF PUBLIC HIGHER SECONDARY SCHOOLS\"]\n",
    "fillphss"
   ]
  },
  {
   "cell_type": "code",
   "execution_count": 19,
   "id": "68db1354",
   "metadata": {},
   "outputs": [
    {
     "data": {
      "text/plain": [
       "0"
      ]
     },
     "execution_count": 19,
     "metadata": {},
     "output_type": "execute_result"
    }
   ],
   "source": [
    "fillphss.isnull().sum()"
   ]
  },
  {
   "cell_type": "code",
   "execution_count": 20,
   "id": "c8ba2970",
   "metadata": {},
   "outputs": [
    {
     "data": {
      "text/plain": [
       "0.0    71\n",
       "1.0    26\n",
       "2.0     3\n",
       "Name: NUMBER OF PUBLIC HIGHER SECONDARY SCHOOLS, dtype: int64"
      ]
     },
     "execution_count": 20,
     "metadata": {},
     "output_type": "execute_result"
    }
   ],
   "source": [
    "fillphss.value_counts()"
   ]
  },
  {
   "cell_type": "code",
   "execution_count": 21,
   "id": "f5504c5e",
   "metadata": {},
   "outputs": [
    {
     "data": {
      "text/html": [
       "<div>\n",
       "<style scoped>\n",
       "    .dataframe tbody tr th:only-of-type {\n",
       "        vertical-align: middle;\n",
       "    }\n",
       "\n",
       "    .dataframe tbody tr th {\n",
       "        vertical-align: top;\n",
       "    }\n",
       "\n",
       "    .dataframe thead th {\n",
       "        text-align: right;\n",
       "    }\n",
       "</style>\n",
       "<table border=\"1\" class=\"dataframe\">\n",
       "  <thead>\n",
       "    <tr style=\"text-align: right;\">\n",
       "      <th></th>\n",
       "      <th>CITY NAME</th>\n",
       "      <th>ZONE Number</th>\n",
       "      <th>Zone Name</th>\n",
       "      <th>WARD NAME</th>\n",
       "      <th>NUMBER OF PUBLIC PRIMARY SCHOOLS</th>\n",
       "      <th>NUMBER OF PUBLIC SECONDARY SCHOOLS</th>\n",
       "      <th>NUMBER OF PUBLIC HIGHER SECONDARY SCHOOLS</th>\n",
       "    </tr>\n",
       "  </thead>\n",
       "  <tbody>\n",
       "    <tr>\n",
       "      <th>0</th>\n",
       "      <td>Chennai</td>\n",
       "      <td>4</td>\n",
       "      <td>TONDIARPET</td>\n",
       "      <td>34</td>\n",
       "      <td>1</td>\n",
       "      <td>0</td>\n",
       "      <td>0.0</td>\n",
       "    </tr>\n",
       "    <tr>\n",
       "      <th>1</th>\n",
       "      <td>Chennai</td>\n",
       "      <td>4</td>\n",
       "      <td>TONDIARPET</td>\n",
       "      <td>35</td>\n",
       "      <td>2</td>\n",
       "      <td>3</td>\n",
       "      <td>0.0</td>\n",
       "    </tr>\n",
       "    <tr>\n",
       "      <th>2</th>\n",
       "      <td>Chennai</td>\n",
       "      <td>4</td>\n",
       "      <td>TONDIARPET</td>\n",
       "      <td>36</td>\n",
       "      <td>1</td>\n",
       "      <td>1</td>\n",
       "      <td>0.0</td>\n",
       "    </tr>\n",
       "    <tr>\n",
       "      <th>3</th>\n",
       "      <td>Chennai</td>\n",
       "      <td>4</td>\n",
       "      <td>TONDIARPET</td>\n",
       "      <td>37</td>\n",
       "      <td>5</td>\n",
       "      <td>0</td>\n",
       "      <td>0.0</td>\n",
       "    </tr>\n",
       "    <tr>\n",
       "      <th>4</th>\n",
       "      <td>Chennai</td>\n",
       "      <td>4</td>\n",
       "      <td>TONDIARPET</td>\n",
       "      <td>38</td>\n",
       "      <td>1</td>\n",
       "      <td>0</td>\n",
       "      <td>1.0</td>\n",
       "    </tr>\n",
       "  </tbody>\n",
       "</table>\n",
       "</div>"
      ],
      "text/plain": [
       "  CITY NAME ZONE Number   Zone Name WARD NAME  \\\n",
       "0   Chennai           4  TONDIARPET        34   \n",
       "1   Chennai           4  TONDIARPET        35   \n",
       "2   Chennai           4  TONDIARPET        36   \n",
       "3   Chennai           4  TONDIARPET        37   \n",
       "4   Chennai           4  TONDIARPET        38   \n",
       "\n",
       "  NUMBER OF PUBLIC PRIMARY SCHOOLS NUMBER OF PUBLIC SECONDARY SCHOOLS  \\\n",
       "0                                1                                  0   \n",
       "1                                2                                  3   \n",
       "2                                1                                  1   \n",
       "3                                5                                  0   \n",
       "4                                1                                  0   \n",
       "\n",
       "  NUMBER OF PUBLIC HIGHER SECONDARY SCHOOLS  \n",
       "0                                       0.0  \n",
       "1                                       0.0  \n",
       "2                                       0.0  \n",
       "3                                       0.0  \n",
       "4                                       1.0  "
      ]
     },
     "execution_count": 21,
     "metadata": {},
     "output_type": "execute_result"
    }
   ],
   "source": [
    "gcc1.head()"
   ]
  },
  {
   "cell_type": "code",
   "execution_count": 22,
   "id": "9dc088c8",
   "metadata": {},
   "outputs": [
    {
     "data": {
      "text/plain": [
       "Index(['TEYNAMPET', 'TONDIARPET', 'ROYAPURAM', 'THIRU-VI-KA NAGAR',\n",
       "       'KODAMBAKKAM', 'ADYAR', 'ANNA NAGAR'],\n",
       "      dtype='object')"
      ]
     },
     "execution_count": 22,
     "metadata": {},
     "output_type": "execute_result"
    }
   ],
   "source": [
    "zones = gcc1[\"Zone Name\"].value_counts().index\n",
    "zones"
   ]
  },
  {
   "cell_type": "code",
   "execution_count": 23,
   "id": "201d28e3",
   "metadata": {},
   "outputs": [
    {
     "data": {
      "text/plain": [
       "array([43, 28, 17,  9,  2,  1], dtype=int64)"
      ]
     },
     "execution_count": 23,
     "metadata": {},
     "output_type": "execute_result"
    }
   ],
   "source": [
    "pps = gcc1[\"NUMBER OF PUBLIC PRIMARY SCHOOLS\"].value_counts().values\n",
    "pps"
   ]
  },
  {
   "cell_type": "code",
   "execution_count": 25,
   "id": "6988d385",
   "metadata": {},
   "outputs": [
    {
     "data": {
      "text/plain": [
       "array([38, 27, 18, 14,  2,  1], dtype=int64)"
      ]
     },
     "execution_count": 25,
     "metadata": {},
     "output_type": "execute_result"
    }
   ],
   "source": [
    "pss = gcc1[\"NUMBER OF PUBLIC SECONDARY SCHOOLS\"].value_counts().values\n",
    "pss"
   ]
  },
  {
   "cell_type": "code",
   "execution_count": 26,
   "id": "7bb97f44",
   "metadata": {},
   "outputs": [
    {
     "data": {
      "text/plain": [
       "array([71, 26,  3], dtype=int64)"
      ]
     },
     "execution_count": 26,
     "metadata": {},
     "output_type": "execute_result"
    }
   ],
   "source": [
    "hss = gcc1[\"NUMBER OF PUBLIC HIGHER SECONDARY SCHOOLS\"].value_counts().values\n",
    "hss"
   ]
  },
  {
   "cell_type": "code",
   "execution_count": 48,
   "id": "4e17431e",
   "metadata": {},
   "outputs": [
    {
     "data": {
      "text/plain": [
       "([<matplotlib.patches.Wedge at 0x22022a30370>,\n",
       "  <matplotlib.patches.Wedge at 0x22022a30730>,\n",
       "  <matplotlib.patches.Wedge at 0x22022a30c10>],\n",
       " [Text(-0.6741977004263886, 0.8691705590617815, 'TEYNAMPET'),\n",
       "  Text(0.5894093214328248, -0.9287608151769202, 'TONDIARPET'),\n",
       "  Text(1.0951181406855968, -0.10351936022465487, 'ROYAPURAM')])"
      ]
     },
     "execution_count": 48,
     "metadata": {},
     "output_type": "execute_result"
    },
    {
     "data": {
      "image/png": "[encoded data removed]",
      "text/plain": [
       "<Figure size 432x288 with 1 Axes>"
      ]
     },
     "metadata": {},
     "output_type": "display_data"
    }
   ],
   "source": [
    "plt.pie(hss,labels = zones[:3])"
   ]
  },
  {
   "cell_type": "code",
   "execution_count": 41,
   "id": "ce85e044",
   "metadata": {},
   "outputs": [
    {
     "data": {
      "text/plain": [
       "([<matplotlib.patches.Wedge at 0x220227fb5e0>,\n",
       "  <matplotlib.patches.Wedge at 0x220227fba30>,\n",
       "  <matplotlib.patches.Wedge at 0x220227fbf10>,\n",
       "  <matplotlib.patches.Wedge at 0x220228183d0>,\n",
       "  <matplotlib.patches.Wedge at 0x220228188b0>,\n",
       "  <matplotlib.patches.Wedge at 0x22022818d90>],\n",
       " [Text(0.4049370232742902, 1.0227541284110062, 'TEYNAMPET'),\n",
       "  Text(-1.0951181606757017, -0.10351914875166021, 'TONDIARPET'),\n",
       "  Text(-0.06906950569907265, -1.0978294054098232, 'ROYAPURAM'),\n",
       "  Text(0.8899187482945414, -0.6465637025335375, 'THIRU-VI-KA NAGAR'),\n",
       "  Text(1.0913261831276604, -0.1378664644502508, 'KODAMBAKKAM'),\n",
       "  Text(1.0994572192571674, -0.03455174414261459, 'ADYAR')])"
      ]
     },
     "execution_count": 41,
     "metadata": {},
     "output_type": "execute_result"
    },
    {
     "data": {
      "image/png": "[encoded data removed]",
      "text/plain": [
       "<Figure size 432x288 with 1 Axes>"
      ]
     },
     "metadata": {},
     "output_type": "display_data"
    }
   ],
   "source": [
    "plt.pie(pss,labels = zones[:6])"
   ]
  },
  {
   "cell_type": "code",
   "execution_count": 42,
   "id": "da7989f1",
   "metadata": {
    "scrolled": false
   },
   "outputs": [
    {
     "data": {
      "text/plain": [
       "([<matplotlib.patches.Wedge at 0x2202284f670>,\n",
       "  <matplotlib.patches.Wedge at 0x2202284fa30>,\n",
       "  <matplotlib.patches.Wedge at 0x2202284ff10>,\n",
       "  <matplotlib.patches.Wedge at 0x2202285e430>,\n",
       "  <matplotlib.patches.Wedge at 0x2202285e910>,\n",
       "  <matplotlib.patches.Wedge at 0x2202285edf0>],\n",
       " [Text(0.23995754141400957, 1.0735084435245696, 'TEYNAMPET'),\n",
       "  Text(-0.9953097349102212, -0.4683572691791443, 'TONDIARPET'),\n",
       "  Text(0.30689027796121454, -1.0563230364300917, 'ROYAPURAM'),\n",
       "  Text(0.9801072140121813, -0.4993894763020948, 'THIRU-VI-KA NAGAR'),\n",
       "  Text(1.0913261831276604, -0.1378664644502508, 'KODAMBAKKAM'),\n",
       "  Text(1.0994572192571674, -0.03455174414261459, 'ADYAR')])"
      ]
     },
     "execution_count": 42,
     "metadata": {},
     "output_type": "execute_result"
    },
    {
     "data": {
      "image/png": "[encoded data removed]",
      "text/plain": [
       "<Figure size 432x288 with 1 Axes>"
      ]
     },
     "metadata": {},
     "output_type": "display_data"
    }
   ],
   "source": [
    "plt.pie(pps,labels = zones[:6])"
   ]
  },
  {
   "cell_type": "code",
   "execution_count": null,
   "id": "1ded1ed6",
   "metadata": {},
   "outputs": [],
   "source": []
  }
 ],
 "metadata": {
  "kernelspec": {
   "display_name": "Python 3 (ipykernel)",
   "language": "python",
   "name": "python3"
  },
  "language_info": {
   "codemirror_mode": {
    "name": "ipython",
    "version": 3
   },
   "file_extension": ".py",
   "mimetype": "text/x-python",
   "name": "python",
   "nbconvert_exporter": "python",
   "pygments_lexer": "ipython3",
   "version": "3.9.12"
  }
 },
 "nbformat": 4,
 "nbformat_minor": 5
}
